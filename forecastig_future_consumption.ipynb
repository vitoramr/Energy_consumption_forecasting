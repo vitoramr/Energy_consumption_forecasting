{
 "cells": [
  {
   "cell_type": "markdown",
   "id": "6ad763e0-85d0-4a8b-9355-eb1918b57b98",
   "metadata": {},
   "source": [
    "# Importing future weather data"
   ]
  },
  {
   "cell_type": "code",
   "execution_count": null,
   "id": "5d42f7fb-7dcd-46f3-a8df-dfd48d250b84",
   "metadata": {},
   "outputs": [],
   "source": [
    "import pickle"
   ]
  },
  {
   "cell_type": "markdown",
   "id": "43ece37d-0380-4b95-9b72-7e0c7691360f",
   "metadata": {},
   "source": [
    "# Importing trained model"
   ]
  },
  {
   "cell_type": "code",
   "execution_count": null,
   "id": "7aef85b6-6c60-4fe5-8bfc-79f6e342f11a",
   "metadata": {},
   "outputs": [],
   "source": []
  }
 ],
 "metadata": {
  "kernelspec": {
   "display_name": "cd-python-tcc",
   "language": "python",
   "name": "cd-python-tcc"
  },
  "language_info": {
   "codemirror_mode": {
    "name": "ipython",
    "version": 3
   },
   "file_extension": ".py",
   "mimetype": "text/x-python",
   "name": "python",
   "nbconvert_exporter": "python",
   "pygments_lexer": "ipython3",
   "version": "3.7.10"
  }
 },
 "nbformat": 4,
 "nbformat_minor": 5
}
